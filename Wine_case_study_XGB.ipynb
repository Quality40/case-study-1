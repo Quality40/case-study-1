{
 "cells": [
  {
   "cell_type": "code",
   "execution_count": 1,
   "id": "ae02db4c",
   "metadata": {},
   "outputs": [],
   "source": [
    "#pip install mrmr_selection"
   ]
  },
  {
   "cell_type": "code",
   "execution_count": 2,
   "id": "d95bbe1b",
   "metadata": {},
   "outputs": [],
   "source": [
    "#pip install polars"
   ]
  },
  {
   "cell_type": "code",
   "execution_count": 3,
   "id": "e0aec912",
   "metadata": {},
   "outputs": [],
   "source": [
    "#pip install xgboost"
   ]
  },
  {
   "cell_type": "code",
   "execution_count": 4,
   "id": "6fee6459",
   "metadata": {},
   "outputs": [],
   "source": [
    "#pip install --upgrade scikit-learn"
   ]
  },
  {
   "cell_type": "code",
   "execution_count": 5,
   "id": "ea25e478",
   "metadata": {},
   "outputs": [],
   "source": [
    "#import libraries\n",
    "import pandas as pd\n",
    "import numpy as np\n",
    "import matplotlib.pyplot as plt\n",
    "import seaborn as sns\n",
    "import xgboost as xgb\n",
    "from sklearn.linear_model import LogisticRegression\n",
    "import random\n",
    "from matplotlib import pyplot\n",
    "from numpy import argmax\n",
    "from sklearn.ensemble import RandomForestClassifier\n",
    "from sklearn.model_selection import train_test_split\n",
    "from sklearn.svm import SVC\n",
    "from sklearn.metrics import confusion_matrix, ConfusionMatrixDisplay\n",
    "from sklearn.metrics import confusion_matrix\n",
    "from sklearn.metrics import accuracy_score\n",
    "from sklearn.metrics import precision_score\n",
    "from sklearn.metrics import recall_score\n",
    "from sklearn.metrics import f1_score\n",
    "from sklearn.metrics import roc_curve\n",
    "from sklearn.metrics import auc\n",
    "from sklearn.preprocessing import MinMaxScaler\n",
    "from sklearn import svm\n",
    "from sklearn import metrics\n",
    "from mrmr import mrmr_classif\n",
    "from sklearn.model_selection import StratifiedKFold, GridSearchCV\n",
    "np.random.seed(1234)"
   ]
  },
  {
   "cell_type": "code",
   "execution_count": 6,
   "id": "1361cf2d",
   "metadata": {},
   "outputs": [],
   "source": [
    "################################################################################################################################\n",
    "#upload the data and create a dataframe called df\n",
    "################################################################################################################################\n",
    "df=pd.read_csv(\"winequality-white.csv\",sep=';')"
   ]
  },
  {
   "cell_type": "code",
   "execution_count": 7,
   "id": "5003bdc6",
   "metadata": {},
   "outputs": [
    {
     "data": {
      "text/html": [
       "<div>\n",
       "<style scoped>\n",
       "    .dataframe tbody tr th:only-of-type {\n",
       "        vertical-align: middle;\n",
       "    }\n",
       "\n",
       "    .dataframe tbody tr th {\n",
       "        vertical-align: top;\n",
       "    }\n",
       "\n",
       "    .dataframe thead th {\n",
       "        text-align: right;\n",
       "    }\n",
       "</style>\n",
       "<table border=\"1\" class=\"dataframe\">\n",
       "  <thead>\n",
       "    <tr style=\"text-align: right;\">\n",
       "      <th></th>\n",
       "      <th>fixed acidity</th>\n",
       "      <th>volatile acidity</th>\n",
       "      <th>citric acid</th>\n",
       "      <th>residual sugar</th>\n",
       "      <th>chlorides</th>\n",
       "      <th>free sulfur dioxide</th>\n",
       "      <th>total sulfur dioxide</th>\n",
       "      <th>density</th>\n",
       "      <th>pH</th>\n",
       "      <th>sulphates</th>\n",
       "      <th>alcohol</th>\n",
       "      <th>quality</th>\n",
       "    </tr>\n",
       "  </thead>\n",
       "  <tbody>\n",
       "    <tr>\n",
       "      <th>0</th>\n",
       "      <td>7.0</td>\n",
       "      <td>0.27</td>\n",
       "      <td>0.36</td>\n",
       "      <td>20.7</td>\n",
       "      <td>0.045</td>\n",
       "      <td>45.0</td>\n",
       "      <td>170.0</td>\n",
       "      <td>1.0010</td>\n",
       "      <td>3.00</td>\n",
       "      <td>0.45</td>\n",
       "      <td>8.8</td>\n",
       "      <td>6</td>\n",
       "    </tr>\n",
       "    <tr>\n",
       "      <th>1</th>\n",
       "      <td>6.3</td>\n",
       "      <td>0.30</td>\n",
       "      <td>0.34</td>\n",
       "      <td>1.6</td>\n",
       "      <td>0.049</td>\n",
       "      <td>14.0</td>\n",
       "      <td>132.0</td>\n",
       "      <td>0.9940</td>\n",
       "      <td>3.30</td>\n",
       "      <td>0.49</td>\n",
       "      <td>9.5</td>\n",
       "      <td>6</td>\n",
       "    </tr>\n",
       "    <tr>\n",
       "      <th>2</th>\n",
       "      <td>8.1</td>\n",
       "      <td>0.28</td>\n",
       "      <td>0.40</td>\n",
       "      <td>6.9</td>\n",
       "      <td>0.050</td>\n",
       "      <td>30.0</td>\n",
       "      <td>97.0</td>\n",
       "      <td>0.9951</td>\n",
       "      <td>3.26</td>\n",
       "      <td>0.44</td>\n",
       "      <td>10.1</td>\n",
       "      <td>6</td>\n",
       "    </tr>\n",
       "    <tr>\n",
       "      <th>3</th>\n",
       "      <td>7.2</td>\n",
       "      <td>0.23</td>\n",
       "      <td>0.32</td>\n",
       "      <td>8.5</td>\n",
       "      <td>0.058</td>\n",
       "      <td>47.0</td>\n",
       "      <td>186.0</td>\n",
       "      <td>0.9956</td>\n",
       "      <td>3.19</td>\n",
       "      <td>0.40</td>\n",
       "      <td>9.9</td>\n",
       "      <td>6</td>\n",
       "    </tr>\n",
       "    <tr>\n",
       "      <th>4</th>\n",
       "      <td>7.2</td>\n",
       "      <td>0.23</td>\n",
       "      <td>0.32</td>\n",
       "      <td>8.5</td>\n",
       "      <td>0.058</td>\n",
       "      <td>47.0</td>\n",
       "      <td>186.0</td>\n",
       "      <td>0.9956</td>\n",
       "      <td>3.19</td>\n",
       "      <td>0.40</td>\n",
       "      <td>9.9</td>\n",
       "      <td>6</td>\n",
       "    </tr>\n",
       "  </tbody>\n",
       "</table>\n",
       "</div>"
      ],
      "text/plain": [
       "   fixed acidity  volatile acidity  citric acid  residual sugar  chlorides  \\\n",
       "0            7.0              0.27         0.36            20.7      0.045   \n",
       "1            6.3              0.30         0.34             1.6      0.049   \n",
       "2            8.1              0.28         0.40             6.9      0.050   \n",
       "3            7.2              0.23         0.32             8.5      0.058   \n",
       "4            7.2              0.23         0.32             8.5      0.058   \n",
       "\n",
       "   free sulfur dioxide  total sulfur dioxide  density    pH  sulphates  \\\n",
       "0                 45.0                 170.0   1.0010  3.00       0.45   \n",
       "1                 14.0                 132.0   0.9940  3.30       0.49   \n",
       "2                 30.0                  97.0   0.9951  3.26       0.44   \n",
       "3                 47.0                 186.0   0.9956  3.19       0.40   \n",
       "4                 47.0                 186.0   0.9956  3.19       0.40   \n",
       "\n",
       "   alcohol  quality  \n",
       "0      8.8        6  \n",
       "1      9.5        6  \n",
       "2     10.1        6  \n",
       "3      9.9        6  \n",
       "4      9.9        6  "
      ]
     },
     "execution_count": 7,
     "metadata": {},
     "output_type": "execute_result"
    }
   ],
   "source": [
    "df.head()"
   ]
  },
  {
   "cell_type": "code",
   "execution_count": 8,
   "id": "c8a1b36e",
   "metadata": {},
   "outputs": [],
   "source": [
    "#remove white spaces\n",
    "df.columns = df.columns.str.replace(' ', '_')"
   ]
  },
  {
   "cell_type": "code",
   "execution_count": 9,
   "id": "df3595f8",
   "metadata": {},
   "outputs": [
    {
     "data": {
      "text/plain": [
       "array([6, 5, 7, 8, 4, 3, 9], dtype=int64)"
      ]
     },
     "execution_count": 9,
     "metadata": {},
     "output_type": "execute_result"
    }
   ],
   "source": [
    "df['quality'].unique()"
   ]
  },
  {
   "cell_type": "code",
   "execution_count": 10,
   "id": "7e45ce0d",
   "metadata": {},
   "outputs": [
    {
     "data": {
      "text/plain": [
       "4898"
      ]
     },
     "execution_count": 10,
     "metadata": {},
     "output_type": "execute_result"
    }
   ],
   "source": [
    "len(df)"
   ]
  },
  {
   "cell_type": "code",
   "execution_count": 11,
   "id": "61b81990",
   "metadata": {},
   "outputs": [],
   "source": [
    "################################################################################################################################\n",
    "#convert the quality column into a binary column\n",
    "################################################################################################################################\n",
    "df['binary_quality']=''\n",
    "#convert to a binary outcome\n",
    "for i in range(len(df)):\n",
    "    if df['quality'].iloc[i]<5:\n",
    "        df['binary_quality'].iloc[i]=1\n",
    "    else:\n",
    "        df['binary_quality'].iloc[i]=0"
   ]
  },
  {
   "cell_type": "code",
   "execution_count": 12,
   "id": "b720fd90",
   "metadata": {},
   "outputs": [
    {
     "data": {
      "text/html": [
       "<div>\n",
       "<style scoped>\n",
       "    .dataframe tbody tr th:only-of-type {\n",
       "        vertical-align: middle;\n",
       "    }\n",
       "\n",
       "    .dataframe tbody tr th {\n",
       "        vertical-align: top;\n",
       "    }\n",
       "\n",
       "    .dataframe thead th {\n",
       "        text-align: right;\n",
       "    }\n",
       "</style>\n",
       "<table border=\"1\" class=\"dataframe\">\n",
       "  <thead>\n",
       "    <tr style=\"text-align: right;\">\n",
       "      <th></th>\n",
       "      <th>fixed_acidity</th>\n",
       "      <th>volatile_acidity</th>\n",
       "      <th>citric_acid</th>\n",
       "      <th>residual_sugar</th>\n",
       "      <th>chlorides</th>\n",
       "      <th>free_sulfur_dioxide</th>\n",
       "      <th>total_sulfur_dioxide</th>\n",
       "      <th>density</th>\n",
       "      <th>pH</th>\n",
       "      <th>sulphates</th>\n",
       "      <th>alcohol</th>\n",
       "      <th>quality</th>\n",
       "      <th>binary_quality</th>\n",
       "    </tr>\n",
       "  </thead>\n",
       "  <tbody>\n",
       "    <tr>\n",
       "      <th>0</th>\n",
       "      <td>7.0</td>\n",
       "      <td>0.27</td>\n",
       "      <td>0.36</td>\n",
       "      <td>20.7</td>\n",
       "      <td>0.045</td>\n",
       "      <td>45.0</td>\n",
       "      <td>170.0</td>\n",
       "      <td>1.0010</td>\n",
       "      <td>3.00</td>\n",
       "      <td>0.45</td>\n",
       "      <td>8.8</td>\n",
       "      <td>6</td>\n",
       "      <td>0</td>\n",
       "    </tr>\n",
       "    <tr>\n",
       "      <th>1</th>\n",
       "      <td>6.3</td>\n",
       "      <td>0.30</td>\n",
       "      <td>0.34</td>\n",
       "      <td>1.6</td>\n",
       "      <td>0.049</td>\n",
       "      <td>14.0</td>\n",
       "      <td>132.0</td>\n",
       "      <td>0.9940</td>\n",
       "      <td>3.30</td>\n",
       "      <td>0.49</td>\n",
       "      <td>9.5</td>\n",
       "      <td>6</td>\n",
       "      <td>0</td>\n",
       "    </tr>\n",
       "    <tr>\n",
       "      <th>2</th>\n",
       "      <td>8.1</td>\n",
       "      <td>0.28</td>\n",
       "      <td>0.40</td>\n",
       "      <td>6.9</td>\n",
       "      <td>0.050</td>\n",
       "      <td>30.0</td>\n",
       "      <td>97.0</td>\n",
       "      <td>0.9951</td>\n",
       "      <td>3.26</td>\n",
       "      <td>0.44</td>\n",
       "      <td>10.1</td>\n",
       "      <td>6</td>\n",
       "      <td>0</td>\n",
       "    </tr>\n",
       "    <tr>\n",
       "      <th>3</th>\n",
       "      <td>7.2</td>\n",
       "      <td>0.23</td>\n",
       "      <td>0.32</td>\n",
       "      <td>8.5</td>\n",
       "      <td>0.058</td>\n",
       "      <td>47.0</td>\n",
       "      <td>186.0</td>\n",
       "      <td>0.9956</td>\n",
       "      <td>3.19</td>\n",
       "      <td>0.40</td>\n",
       "      <td>9.9</td>\n",
       "      <td>6</td>\n",
       "      <td>0</td>\n",
       "    </tr>\n",
       "    <tr>\n",
       "      <th>4</th>\n",
       "      <td>7.2</td>\n",
       "      <td>0.23</td>\n",
       "      <td>0.32</td>\n",
       "      <td>8.5</td>\n",
       "      <td>0.058</td>\n",
       "      <td>47.0</td>\n",
       "      <td>186.0</td>\n",
       "      <td>0.9956</td>\n",
       "      <td>3.19</td>\n",
       "      <td>0.40</td>\n",
       "      <td>9.9</td>\n",
       "      <td>6</td>\n",
       "      <td>0</td>\n",
       "    </tr>\n",
       "  </tbody>\n",
       "</table>\n",
       "</div>"
      ],
      "text/plain": [
       "   fixed_acidity  volatile_acidity  citric_acid  residual_sugar  chlorides  \\\n",
       "0            7.0              0.27         0.36            20.7      0.045   \n",
       "1            6.3              0.30         0.34             1.6      0.049   \n",
       "2            8.1              0.28         0.40             6.9      0.050   \n",
       "3            7.2              0.23         0.32             8.5      0.058   \n",
       "4            7.2              0.23         0.32             8.5      0.058   \n",
       "\n",
       "   free_sulfur_dioxide  total_sulfur_dioxide  density    pH  sulphates  \\\n",
       "0                 45.0                 170.0   1.0010  3.00       0.45   \n",
       "1                 14.0                 132.0   0.9940  3.30       0.49   \n",
       "2                 30.0                  97.0   0.9951  3.26       0.44   \n",
       "3                 47.0                 186.0   0.9956  3.19       0.40   \n",
       "4                 47.0                 186.0   0.9956  3.19       0.40   \n",
       "\n",
       "   alcohol  quality binary_quality  \n",
       "0      8.8        6              0  \n",
       "1      9.5        6              0  \n",
       "2     10.1        6              0  \n",
       "3      9.9        6              0  \n",
       "4      9.9        6              0  "
      ]
     },
     "execution_count": 12,
     "metadata": {},
     "output_type": "execute_result"
    }
   ],
   "source": [
    "df.head()"
   ]
  },
  {
   "cell_type": "code",
   "execution_count": 13,
   "id": "82e2a0bd",
   "metadata": {},
   "outputs": [
    {
     "data": {
      "text/html": [
       "<div>\n",
       "<style scoped>\n",
       "    .dataframe tbody tr th:only-of-type {\n",
       "        vertical-align: middle;\n",
       "    }\n",
       "\n",
       "    .dataframe tbody tr th {\n",
       "        vertical-align: top;\n",
       "    }\n",
       "\n",
       "    .dataframe thead th {\n",
       "        text-align: right;\n",
       "    }\n",
       "</style>\n",
       "<table border=\"1\" class=\"dataframe\">\n",
       "  <thead>\n",
       "    <tr style=\"text-align: right;\">\n",
       "      <th></th>\n",
       "      <th>fixed_acidity</th>\n",
       "      <th>volatile_acidity</th>\n",
       "      <th>citric_acid</th>\n",
       "      <th>residual_sugar</th>\n",
       "      <th>chlorides</th>\n",
       "      <th>free_sulfur_dioxide</th>\n",
       "      <th>total_sulfur_dioxide</th>\n",
       "      <th>density</th>\n",
       "      <th>pH</th>\n",
       "      <th>sulphates</th>\n",
       "      <th>alcohol</th>\n",
       "      <th>quality</th>\n",
       "      <th>binary_quality</th>\n",
       "    </tr>\n",
       "  </thead>\n",
       "  <tbody>\n",
       "    <tr>\n",
       "      <th>4893</th>\n",
       "      <td>6.2</td>\n",
       "      <td>0.21</td>\n",
       "      <td>0.29</td>\n",
       "      <td>1.6</td>\n",
       "      <td>0.039</td>\n",
       "      <td>24.0</td>\n",
       "      <td>92.0</td>\n",
       "      <td>0.99114</td>\n",
       "      <td>3.27</td>\n",
       "      <td>0.50</td>\n",
       "      <td>11.2</td>\n",
       "      <td>6</td>\n",
       "      <td>0</td>\n",
       "    </tr>\n",
       "    <tr>\n",
       "      <th>4894</th>\n",
       "      <td>6.6</td>\n",
       "      <td>0.32</td>\n",
       "      <td>0.36</td>\n",
       "      <td>8.0</td>\n",
       "      <td>0.047</td>\n",
       "      <td>57.0</td>\n",
       "      <td>168.0</td>\n",
       "      <td>0.99490</td>\n",
       "      <td>3.15</td>\n",
       "      <td>0.46</td>\n",
       "      <td>9.6</td>\n",
       "      <td>5</td>\n",
       "      <td>0</td>\n",
       "    </tr>\n",
       "    <tr>\n",
       "      <th>4895</th>\n",
       "      <td>6.5</td>\n",
       "      <td>0.24</td>\n",
       "      <td>0.19</td>\n",
       "      <td>1.2</td>\n",
       "      <td>0.041</td>\n",
       "      <td>30.0</td>\n",
       "      <td>111.0</td>\n",
       "      <td>0.99254</td>\n",
       "      <td>2.99</td>\n",
       "      <td>0.46</td>\n",
       "      <td>9.4</td>\n",
       "      <td>6</td>\n",
       "      <td>0</td>\n",
       "    </tr>\n",
       "    <tr>\n",
       "      <th>4896</th>\n",
       "      <td>5.5</td>\n",
       "      <td>0.29</td>\n",
       "      <td>0.30</td>\n",
       "      <td>1.1</td>\n",
       "      <td>0.022</td>\n",
       "      <td>20.0</td>\n",
       "      <td>110.0</td>\n",
       "      <td>0.98869</td>\n",
       "      <td>3.34</td>\n",
       "      <td>0.38</td>\n",
       "      <td>12.8</td>\n",
       "      <td>7</td>\n",
       "      <td>0</td>\n",
       "    </tr>\n",
       "    <tr>\n",
       "      <th>4897</th>\n",
       "      <td>6.0</td>\n",
       "      <td>0.21</td>\n",
       "      <td>0.38</td>\n",
       "      <td>0.8</td>\n",
       "      <td>0.020</td>\n",
       "      <td>22.0</td>\n",
       "      <td>98.0</td>\n",
       "      <td>0.98941</td>\n",
       "      <td>3.26</td>\n",
       "      <td>0.32</td>\n",
       "      <td>11.8</td>\n",
       "      <td>6</td>\n",
       "      <td>0</td>\n",
       "    </tr>\n",
       "  </tbody>\n",
       "</table>\n",
       "</div>"
      ],
      "text/plain": [
       "      fixed_acidity  volatile_acidity  citric_acid  residual_sugar  chlorides  \\\n",
       "4893            6.2              0.21         0.29             1.6      0.039   \n",
       "4894            6.6              0.32         0.36             8.0      0.047   \n",
       "4895            6.5              0.24         0.19             1.2      0.041   \n",
       "4896            5.5              0.29         0.30             1.1      0.022   \n",
       "4897            6.0              0.21         0.38             0.8      0.020   \n",
       "\n",
       "      free_sulfur_dioxide  total_sulfur_dioxide  density    pH  sulphates  \\\n",
       "4893                 24.0                  92.0  0.99114  3.27       0.50   \n",
       "4894                 57.0                 168.0  0.99490  3.15       0.46   \n",
       "4895                 30.0                 111.0  0.99254  2.99       0.46   \n",
       "4896                 20.0                 110.0  0.98869  3.34       0.38   \n",
       "4897                 22.0                  98.0  0.98941  3.26       0.32   \n",
       "\n",
       "      alcohol  quality binary_quality  \n",
       "4893     11.2        6              0  \n",
       "4894      9.6        5              0  \n",
       "4895      9.4        6              0  \n",
       "4896     12.8        7              0  \n",
       "4897     11.8        6              0  "
      ]
     },
     "execution_count": 13,
     "metadata": {},
     "output_type": "execute_result"
    }
   ],
   "source": [
    "df.tail()"
   ]
  },
  {
   "cell_type": "code",
   "execution_count": 14,
   "id": "533d5f1f",
   "metadata": {},
   "outputs": [
    {
     "data": {
      "text/plain": [
       "183"
      ]
     },
     "execution_count": 14,
     "metadata": {},
     "output_type": "execute_result"
    }
   ],
   "source": [
    "#check for the number of positive cases\n",
    "sum(df['binary_quality'])"
   ]
  },
  {
   "cell_type": "code",
   "execution_count": 15,
   "id": "16b82ff2",
   "metadata": {},
   "outputs": [
    {
     "name": "stdout",
     "output_type": "stream",
     "text": [
      "3.74 %\n"
     ]
    }
   ],
   "source": [
    "#compute the percentage of positives\n",
    "print(round(sum(df['binary_quality'])/len(df['binary_quality'])*100,2),'%')"
   ]
  },
  {
   "cell_type": "code",
   "execution_count": 16,
   "id": "58c3b3c5",
   "metadata": {},
   "outputs": [],
   "source": [
    "################################################################################################################################\n",
    "#manipulate the dataframe to illustrate the application of different preprocessing technical tools\n",
    "################################################################################################################################\n",
    "#delete one record of each row one and two\n",
    "df['fixed_acidity'][0]=np.nan\n",
    "df['volatile_acidity'][1]=np.nan"
   ]
  },
  {
   "cell_type": "code",
   "execution_count": 17,
   "id": "988d113a",
   "metadata": {},
   "outputs": [],
   "source": [
    "#create an \"unfeasible\" value for residual sugar\n",
    "df['residual_sugar'][2]=-100"
   ]
  },
  {
   "cell_type": "code",
   "execution_count": 18,
   "id": "807d5389",
   "metadata": {},
   "outputs": [],
   "source": [
    "#add an empty virtual feature\n",
    "df['vf_empty']=np.nan"
   ]
  },
  {
   "cell_type": "code",
   "execution_count": 19,
   "id": "3252db19",
   "metadata": {},
   "outputs": [],
   "source": [
    "#add a redundant virtual feature\n",
    "df['vf_redundant']=df['citric_acid']*2*random.uniform(0, 1)"
   ]
  },
  {
   "cell_type": "code",
   "execution_count": 20,
   "id": "b54a1e33",
   "metadata": {},
   "outputs": [],
   "source": [
    "#add an irrelevant virtual feature\n",
    "df['vf_irrelevant']=''\n",
    "for i in range(len(df)):\n",
    "    df['vf_irrelevant'][i]=random.uniform(0, 1)"
   ]
  },
  {
   "cell_type": "code",
   "execution_count": 21,
   "id": "2a58fc37",
   "metadata": {},
   "outputs": [
    {
     "data": {
      "text/html": [
       "<div>\n",
       "<style scoped>\n",
       "    .dataframe tbody tr th:only-of-type {\n",
       "        vertical-align: middle;\n",
       "    }\n",
       "\n",
       "    .dataframe tbody tr th {\n",
       "        vertical-align: top;\n",
       "    }\n",
       "\n",
       "    .dataframe thead th {\n",
       "        text-align: right;\n",
       "    }\n",
       "</style>\n",
       "<table border=\"1\" class=\"dataframe\">\n",
       "  <thead>\n",
       "    <tr style=\"text-align: right;\">\n",
       "      <th></th>\n",
       "      <th>fixed_acidity</th>\n",
       "      <th>volatile_acidity</th>\n",
       "      <th>citric_acid</th>\n",
       "      <th>residual_sugar</th>\n",
       "      <th>chlorides</th>\n",
       "      <th>free_sulfur_dioxide</th>\n",
       "      <th>total_sulfur_dioxide</th>\n",
       "      <th>density</th>\n",
       "      <th>pH</th>\n",
       "      <th>sulphates</th>\n",
       "      <th>alcohol</th>\n",
       "      <th>quality</th>\n",
       "      <th>binary_quality</th>\n",
       "      <th>vf_empty</th>\n",
       "      <th>vf_redundant</th>\n",
       "      <th>vf_irrelevant</th>\n",
       "    </tr>\n",
       "  </thead>\n",
       "  <tbody>\n",
       "    <tr>\n",
       "      <th>0</th>\n",
       "      <td>NaN</td>\n",
       "      <td>0.27</td>\n",
       "      <td>0.36</td>\n",
       "      <td>20.7</td>\n",
       "      <td>0.045</td>\n",
       "      <td>45.0</td>\n",
       "      <td>170.0</td>\n",
       "      <td>1.0010</td>\n",
       "      <td>3.00</td>\n",
       "      <td>0.45</td>\n",
       "      <td>8.8</td>\n",
       "      <td>6</td>\n",
       "      <td>0</td>\n",
       "      <td>NaN</td>\n",
       "      <td>0.449068</td>\n",
       "      <td>0.319336</td>\n",
       "    </tr>\n",
       "    <tr>\n",
       "      <th>1</th>\n",
       "      <td>6.3</td>\n",
       "      <td>NaN</td>\n",
       "      <td>0.34</td>\n",
       "      <td>1.6</td>\n",
       "      <td>0.049</td>\n",
       "      <td>14.0</td>\n",
       "      <td>132.0</td>\n",
       "      <td>0.9940</td>\n",
       "      <td>3.30</td>\n",
       "      <td>0.49</td>\n",
       "      <td>9.5</td>\n",
       "      <td>6</td>\n",
       "      <td>0</td>\n",
       "      <td>NaN</td>\n",
       "      <td>0.424120</td>\n",
       "      <td>0.497874</td>\n",
       "    </tr>\n",
       "    <tr>\n",
       "      <th>2</th>\n",
       "      <td>8.1</td>\n",
       "      <td>0.28</td>\n",
       "      <td>0.40</td>\n",
       "      <td>-100.0</td>\n",
       "      <td>0.050</td>\n",
       "      <td>30.0</td>\n",
       "      <td>97.0</td>\n",
       "      <td>0.9951</td>\n",
       "      <td>3.26</td>\n",
       "      <td>0.44</td>\n",
       "      <td>10.1</td>\n",
       "      <td>6</td>\n",
       "      <td>0</td>\n",
       "      <td>NaN</td>\n",
       "      <td>0.498964</td>\n",
       "      <td>0.759859</td>\n",
       "    </tr>\n",
       "    <tr>\n",
       "      <th>3</th>\n",
       "      <td>7.2</td>\n",
       "      <td>0.23</td>\n",
       "      <td>0.32</td>\n",
       "      <td>8.5</td>\n",
       "      <td>0.058</td>\n",
       "      <td>47.0</td>\n",
       "      <td>186.0</td>\n",
       "      <td>0.9956</td>\n",
       "      <td>3.19</td>\n",
       "      <td>0.40</td>\n",
       "      <td>9.9</td>\n",
       "      <td>6</td>\n",
       "      <td>0</td>\n",
       "      <td>NaN</td>\n",
       "      <td>0.399171</td>\n",
       "      <td>0.680314</td>\n",
       "    </tr>\n",
       "    <tr>\n",
       "      <th>4</th>\n",
       "      <td>7.2</td>\n",
       "      <td>0.23</td>\n",
       "      <td>0.32</td>\n",
       "      <td>8.5</td>\n",
       "      <td>0.058</td>\n",
       "      <td>47.0</td>\n",
       "      <td>186.0</td>\n",
       "      <td>0.9956</td>\n",
       "      <td>3.19</td>\n",
       "      <td>0.40</td>\n",
       "      <td>9.9</td>\n",
       "      <td>6</td>\n",
       "      <td>0</td>\n",
       "      <td>NaN</td>\n",
       "      <td>0.399171</td>\n",
       "      <td>0.130184</td>\n",
       "    </tr>\n",
       "  </tbody>\n",
       "</table>\n",
       "</div>"
      ],
      "text/plain": [
       "   fixed_acidity  volatile_acidity  citric_acid  residual_sugar  chlorides  \\\n",
       "0            NaN              0.27         0.36            20.7      0.045   \n",
       "1            6.3               NaN         0.34             1.6      0.049   \n",
       "2            8.1              0.28         0.40          -100.0      0.050   \n",
       "3            7.2              0.23         0.32             8.5      0.058   \n",
       "4            7.2              0.23         0.32             8.5      0.058   \n",
       "\n",
       "   free_sulfur_dioxide  total_sulfur_dioxide  density    pH  sulphates  \\\n",
       "0                 45.0                 170.0   1.0010  3.00       0.45   \n",
       "1                 14.0                 132.0   0.9940  3.30       0.49   \n",
       "2                 30.0                  97.0   0.9951  3.26       0.44   \n",
       "3                 47.0                 186.0   0.9956  3.19       0.40   \n",
       "4                 47.0                 186.0   0.9956  3.19       0.40   \n",
       "\n",
       "   alcohol  quality binary_quality  vf_empty  vf_redundant vf_irrelevant  \n",
       "0      8.8        6              0       NaN      0.449068      0.319336  \n",
       "1      9.5        6              0       NaN      0.424120      0.497874  \n",
       "2     10.1        6              0       NaN      0.498964      0.759859  \n",
       "3      9.9        6              0       NaN      0.399171      0.680314  \n",
       "4      9.9        6              0       NaN      0.399171      0.130184  "
      ]
     },
     "execution_count": 21,
     "metadata": {},
     "output_type": "execute_result"
    }
   ],
   "source": [
    "df.head()"
   ]
  },
  {
   "cell_type": "code",
   "execution_count": 22,
   "id": "a020c61a",
   "metadata": {},
   "outputs": [
    {
     "data": {
      "text/plain": [
       "fixed_acidity              1\n",
       "volatile_acidity           1\n",
       "citric_acid                0\n",
       "residual_sugar             0\n",
       "chlorides                  0\n",
       "free_sulfur_dioxide        0\n",
       "total_sulfur_dioxide       0\n",
       "density                    0\n",
       "pH                         0\n",
       "sulphates                  0\n",
       "alcohol                    0\n",
       "quality                    0\n",
       "binary_quality             0\n",
       "vf_empty                4898\n",
       "vf_redundant               0\n",
       "vf_irrelevant              0\n",
       "dtype: int64"
      ]
     },
     "execution_count": 22,
     "metadata": {},
     "output_type": "execute_result"
    }
   ],
   "source": [
    "################################################################################################################################\n",
    "#preprocess the data\n",
    "################################################################################################################################\n",
    "#check for empties\n",
    "df.isna().sum()"
   ]
  },
  {
   "cell_type": "code",
   "execution_count": 23,
   "id": "573fdf0f",
   "metadata": {},
   "outputs": [],
   "source": [
    "#impute a column with a mean\n",
    "df['fixed_acidity'].fillna(int(df['fixed_acidity'].mean()), inplace=True)"
   ]
  },
  {
   "cell_type": "code",
   "execution_count": 24,
   "id": "37c7037f",
   "metadata": {},
   "outputs": [],
   "source": [
    "#eliminate column with too many empties\n",
    "# based on a threshold\n",
    "df=df.dropna(axis=1,thresh=4000)"
   ]
  },
  {
   "cell_type": "code",
   "execution_count": 25,
   "id": "ec6f7b07",
   "metadata": {},
   "outputs": [
    {
     "data": {
      "text/plain": [
       "fixed_acidity           0\n",
       "volatile_acidity        1\n",
       "citric_acid             0\n",
       "residual_sugar          0\n",
       "chlorides               0\n",
       "free_sulfur_dioxide     0\n",
       "total_sulfur_dioxide    0\n",
       "density                 0\n",
       "pH                      0\n",
       "sulphates               0\n",
       "alcohol                 0\n",
       "quality                 0\n",
       "binary_quality          0\n",
       "vf_redundant            0\n",
       "vf_irrelevant           0\n",
       "dtype: int64"
      ]
     },
     "execution_count": 25,
     "metadata": {},
     "output_type": "execute_result"
    }
   ],
   "source": [
    "#check for empties\n",
    "df.isna().sum()"
   ]
  },
  {
   "cell_type": "code",
   "execution_count": 26,
   "id": "c0d10e79",
   "metadata": {},
   "outputs": [],
   "source": [
    "#eliminate the reamining rows with little NaNs if needed\n",
    "df.dropna(inplace=True)"
   ]
  },
  {
   "cell_type": "code",
   "execution_count": 27,
   "id": "300357cd",
   "metadata": {},
   "outputs": [
    {
     "data": {
      "text/plain": [
       "fixed_acidity           0\n",
       "volatile_acidity        0\n",
       "citric_acid             0\n",
       "residual_sugar          0\n",
       "chlorides               0\n",
       "free_sulfur_dioxide     0\n",
       "total_sulfur_dioxide    0\n",
       "density                 0\n",
       "pH                      0\n",
       "sulphates               0\n",
       "alcohol                 0\n",
       "quality                 0\n",
       "binary_quality          0\n",
       "vf_redundant            0\n",
       "vf_irrelevant           0\n",
       "dtype: int64"
      ]
     },
     "execution_count": 27,
     "metadata": {},
     "output_type": "execute_result"
    }
   ],
   "source": [
    "#check for empties\n",
    "df.isna().sum()"
   ]
  },
  {
   "cell_type": "code",
   "execution_count": 28,
   "id": "858f2368",
   "metadata": {},
   "outputs": [
    {
     "data": {
      "text/plain": [
       "(array([ 0,  1,  2,  3,  4,  5,  6,  7,  8,  9, 10, 11, 12, 13, 14]),\n",
       " [Text(0, 0, 'fixed_acidity'),\n",
       "  Text(1, 0, 'volatile_acidity'),\n",
       "  Text(2, 0, 'citric_acid'),\n",
       "  Text(3, 0, 'residual_sugar'),\n",
       "  Text(4, 0, 'chlorides'),\n",
       "  Text(5, 0, 'free_sulfur_dioxide'),\n",
       "  Text(6, 0, 'total_sulfur_dioxide'),\n",
       "  Text(7, 0, 'density'),\n",
       "  Text(8, 0, 'pH'),\n",
       "  Text(9, 0, 'sulphates'),\n",
       "  Text(10, 0, 'alcohol'),\n",
       "  Text(11, 0, 'quality'),\n",
       "  Text(12, 0, 'binary_quality'),\n",
       "  Text(13, 0, 'vf_redundant'),\n",
       "  Text(14, 0, 'vf_irrelevant')])"
      ]
     },
     "execution_count": 28,
     "metadata": {},
     "output_type": "execute_result"
    },
    {
     "data": {
      "image/png": "[encoded data removed]",
      "text/plain": [
       "<Figure size 640x480 with 1 Axes>"
      ]
     },
     "metadata": {},
     "output_type": "display_data"
    }
   ],
   "source": [
    "#outlier detection, visualize all the features\n",
    "sns.boxplot(data=df)\n",
    "plt.xticks(rotation=90)"
   ]
  },
  {
   "cell_type": "code",
   "execution_count": 29,
   "id": "fcf49df4",
   "metadata": {},
   "outputs": [
    {
     "data": {
      "text/plain": [
       "<Axes: >"
      ]
     },
     "execution_count": 29,
     "metadata": {},
     "output_type": "execute_result"
    },
    {
     "data": {
      "image/png": "[encoded data removed]",
      "text/plain": [
       "<Figure size 640x480 with 1 Axes>"
      ]
     },
     "metadata": {},
     "output_type": "display_data"
    }
   ],
   "source": [
    "#outlier visualization, one feature\n",
    "sns.boxplot(data=df['residual_sugar'])"
   ]
  },
  {
   "cell_type": "code",
   "execution_count": 30,
   "id": "d77e429d",
   "metadata": {},
   "outputs": [
    {
     "data": {
      "text/plain": [
       "-100.0"
      ]
     },
     "execution_count": 30,
     "metadata": {},
     "output_type": "execute_result"
    }
   ],
   "source": [
    "min(df['residual_sugar'])"
   ]
  },
  {
   "cell_type": "code",
   "execution_count": 31,
   "id": "fef7a04e",
   "metadata": {},
   "outputs": [],
   "source": [
    "#drop outliers based on a condition. In this case domain knowledge indicates that no negatives values are feasible.\n",
    "df.drop(df[df.residual_sugar<0].index , inplace=True)"
   ]
  },
  {
   "cell_type": "code",
   "execution_count": 32,
   "id": "d3fe646e",
   "metadata": {},
   "outputs": [
    {
     "data": {
      "text/plain": [
       "<Axes: >"
      ]
     },
     "execution_count": 32,
     "metadata": {},
     "output_type": "execute_result"
    },
    {
     "data": {
      "image/png": "[encoded data removed]",
      "text/plain": [
       "<Figure size 640x480 with 1 Axes>"
      ]
     },
     "metadata": {},
     "output_type": "display_data"
    }
   ],
   "source": [
    "#outlier visualization, one feature\n",
    "sns.boxplot(data=df['residual_sugar'])"
   ]
  },
  {
   "cell_type": "code",
   "execution_count": 33,
   "id": "5e3723cf",
   "metadata": {},
   "outputs": [],
   "source": [
    "#data driven approach  to remove outliers based on the IQR\n",
    "#compute the upper and lower limits\n",
    "Q1 = df['residual_sugar'].quantile(0.25)\n",
    "Q3 = df['residual_sugar'].quantile(0.75)\n",
    "IQR = Q3 - Q1\n",
    "lower = Q1 - 1.5*IQR\n",
    "upper = Q3 + 1.5*IQR\n",
    "# Create arrays of Boolean values indicating the outlier rows\n",
    "df.drop(df[df.residual_sugar<=lower].index , inplace=True)\n",
    "df.drop(df[df.residual_sugar>=upper].index , inplace=True)"
   ]
  },
  {
   "cell_type": "code",
   "execution_count": 34,
   "id": "2dbc33be",
   "metadata": {},
   "outputs": [
    {
     "data": {
      "text/plain": [
       "<Axes: >"
      ]
     },
     "execution_count": 34,
     "metadata": {},
     "output_type": "execute_result"
    },
    {
     "data": {
      "image/png": "[encoded data removed]",
      "text/plain": [
       "<Figure size 640x480 with 1 Axes>"
      ]
     },
     "metadata": {},
     "output_type": "display_data"
    }
   ],
   "source": [
    "#outlier visualization, one feature\n",
    "sns.boxplot(data=df['residual_sugar'])"
   ]
  },
  {
   "cell_type": "code",
   "execution_count": 35,
   "id": "16c88e6a",
   "metadata": {},
   "outputs": [
    {
     "data": {
      "text/plain": [
       "4889"
      ]
     },
     "execution_count": 35,
     "metadata": {},
     "output_type": "execute_result"
    }
   ],
   "source": [
    "len(df)"
   ]
  },
  {
   "cell_type": "code",
   "execution_count": 36,
   "id": "a121e29a",
   "metadata": {},
   "outputs": [
    {
     "data": {
      "text/html": [
       "<div>\n",
       "<style scoped>\n",
       "    .dataframe tbody tr th:only-of-type {\n",
       "        vertical-align: middle;\n",
       "    }\n",
       "\n",
       "    .dataframe tbody tr th {\n",
       "        vertical-align: top;\n",
       "    }\n",
       "\n",
       "    .dataframe thead th {\n",
       "        text-align: right;\n",
       "    }\n",
       "</style>\n",
       "<table border=\"1\" class=\"dataframe\">\n",
       "  <thead>\n",
       "    <tr style=\"text-align: right;\">\n",
       "      <th></th>\n",
       "      <th>fixed_acidity</th>\n",
       "      <th>volatile_acidity</th>\n",
       "      <th>citric_acid</th>\n",
       "      <th>residual_sugar</th>\n",
       "      <th>chlorides</th>\n",
       "      <th>free_sulfur_dioxide</th>\n",
       "      <th>total_sulfur_dioxide</th>\n",
       "      <th>density</th>\n",
       "      <th>pH</th>\n",
       "      <th>sulphates</th>\n",
       "      <th>alcohol</th>\n",
       "      <th>quality</th>\n",
       "      <th>binary_quality</th>\n",
       "      <th>vf_redundant</th>\n",
       "      <th>vf_irrelevant</th>\n",
       "    </tr>\n",
       "  </thead>\n",
       "  <tbody>\n",
       "    <tr>\n",
       "      <th>0</th>\n",
       "      <td>6.0</td>\n",
       "      <td>0.27</td>\n",
       "      <td>0.36</td>\n",
       "      <td>20.7</td>\n",
       "      <td>0.045</td>\n",
       "      <td>45.0</td>\n",
       "      <td>170.0</td>\n",
       "      <td>1.0010</td>\n",
       "      <td>3.00</td>\n",
       "      <td>0.45</td>\n",
       "      <td>8.8</td>\n",
       "      <td>6</td>\n",
       "      <td>0</td>\n",
       "      <td>0.449068</td>\n",
       "      <td>0.319336</td>\n",
       "    </tr>\n",
       "    <tr>\n",
       "      <th>3</th>\n",
       "      <td>7.2</td>\n",
       "      <td>0.23</td>\n",
       "      <td>0.32</td>\n",
       "      <td>8.5</td>\n",
       "      <td>0.058</td>\n",
       "      <td>47.0</td>\n",
       "      <td>186.0</td>\n",
       "      <td>0.9956</td>\n",
       "      <td>3.19</td>\n",
       "      <td>0.40</td>\n",
       "      <td>9.9</td>\n",
       "      <td>6</td>\n",
       "      <td>0</td>\n",
       "      <td>0.399171</td>\n",
       "      <td>0.680314</td>\n",
       "    </tr>\n",
       "    <tr>\n",
       "      <th>4</th>\n",
       "      <td>7.2</td>\n",
       "      <td>0.23</td>\n",
       "      <td>0.32</td>\n",
       "      <td>8.5</td>\n",
       "      <td>0.058</td>\n",
       "      <td>47.0</td>\n",
       "      <td>186.0</td>\n",
       "      <td>0.9956</td>\n",
       "      <td>3.19</td>\n",
       "      <td>0.40</td>\n",
       "      <td>9.9</td>\n",
       "      <td>6</td>\n",
       "      <td>0</td>\n",
       "      <td>0.399171</td>\n",
       "      <td>0.130184</td>\n",
       "    </tr>\n",
       "    <tr>\n",
       "      <th>5</th>\n",
       "      <td>8.1</td>\n",
       "      <td>0.28</td>\n",
       "      <td>0.40</td>\n",
       "      <td>6.9</td>\n",
       "      <td>0.050</td>\n",
       "      <td>30.0</td>\n",
       "      <td>97.0</td>\n",
       "      <td>0.9951</td>\n",
       "      <td>3.26</td>\n",
       "      <td>0.44</td>\n",
       "      <td>10.1</td>\n",
       "      <td>6</td>\n",
       "      <td>0</td>\n",
       "      <td>0.498964</td>\n",
       "      <td>0.693569</td>\n",
       "    </tr>\n",
       "    <tr>\n",
       "      <th>6</th>\n",
       "      <td>6.2</td>\n",
       "      <td>0.32</td>\n",
       "      <td>0.16</td>\n",
       "      <td>7.0</td>\n",
       "      <td>0.045</td>\n",
       "      <td>30.0</td>\n",
       "      <td>136.0</td>\n",
       "      <td>0.9949</td>\n",
       "      <td>3.18</td>\n",
       "      <td>0.47</td>\n",
       "      <td>9.6</td>\n",
       "      <td>6</td>\n",
       "      <td>0</td>\n",
       "      <td>0.199586</td>\n",
       "      <td>0.089674</td>\n",
       "    </tr>\n",
       "  </tbody>\n",
       "</table>\n",
       "</div>"
      ],
      "text/plain": [
       "   fixed_acidity  volatile_acidity  citric_acid  residual_sugar  chlorides  \\\n",
       "0            6.0              0.27         0.36            20.7      0.045   \n",
       "3            7.2              0.23         0.32             8.5      0.058   \n",
       "4            7.2              0.23         0.32             8.5      0.058   \n",
       "5            8.1              0.28         0.40             6.9      0.050   \n",
       "6            6.2              0.32         0.16             7.0      0.045   \n",
       "\n",
       "   free_sulfur_dioxide  total_sulfur_dioxide  density    pH  sulphates  \\\n",
       "0                 45.0                 170.0   1.0010  3.00       0.45   \n",
       "3                 47.0                 186.0   0.9956  3.19       0.40   \n",
       "4                 47.0                 186.0   0.9956  3.19       0.40   \n",
       "5                 30.0                  97.0   0.9951  3.26       0.44   \n",
       "6                 30.0                 136.0   0.9949  3.18       0.47   \n",
       "\n",
       "   alcohol  quality binary_quality  vf_redundant vf_irrelevant  \n",
       "0      8.8        6              0      0.449068      0.319336  \n",
       "3      9.9        6              0      0.399171      0.680314  \n",
       "4      9.9        6              0      0.399171      0.130184  \n",
       "5     10.1        6              0      0.498964      0.693569  \n",
       "6      9.6        6              0      0.199586      0.089674  "
      ]
     },
     "execution_count": 36,
     "metadata": {},
     "output_type": "execute_result"
    }
   ],
   "source": [
    "df.head()"
   ]
  },
  {
   "cell_type": "code",
   "execution_count": 37,
   "id": "6ce4668b",
   "metadata": {},
   "outputs": [
    {
     "name": "stdout",
     "output_type": "stream",
     "text": [
      "0       0\n",
      "3       0\n",
      "4       0\n",
      "5       0\n",
      "6       0\n",
      "       ..\n",
      "4893    0\n",
      "4894    0\n",
      "4895    0\n",
      "4896    0\n",
      "4897    0\n",
      "Name: binary_quality, Length: 4889, dtype: int32\n"
     ]
    }
   ],
   "source": [
    "################################################################################################################################\n",
    "#create the learning dataset\n",
    "################################################################################################################################\n",
    "#create y, a vector with the labels\n",
    "y=df.iloc[:,12]\n",
    "y=y.astype('int')\n",
    "print(y)"
   ]
  },
  {
   "cell_type": "code",
   "execution_count": 38,
   "id": "86d59401",
   "metadata": {},
   "outputs": [
    {
     "data": {
      "text/plain": [
       "0    4706\n",
       "1     183\n",
       "Name: binary_quality, dtype: int64"
      ]
     },
     "execution_count": 38,
     "metadata": {},
     "output_type": "execute_result"
    }
   ],
   "source": [
    "#samples by labels\n",
    "y.value_counts()"
   ]
  },
  {
   "cell_type": "code",
   "execution_count": 39,
   "id": "5df53a34",
   "metadata": {},
   "outputs": [],
   "source": [
    "df = df.drop(['quality','binary_quality'], axis=1)"
   ]
  },
  {
   "cell_type": "code",
   "execution_count": 40,
   "id": "e475606e",
   "metadata": {},
   "outputs": [],
   "source": [
    "#create X, a matrix with the features on the \"minimum Redundancy - Maximum Relevance\" filter feature selection algorithm\n",
    "X=df"
   ]
  },
  {
   "cell_type": "code",
   "execution_count": 41,
   "id": "8121c314",
   "metadata": {},
   "outputs": [
    {
     "name": "stderr",
     "output_type": "stream",
     "text": [
      "100%|██████████| 13/13 [00:10<00:00,  1.26it/s]\n"
     ]
    }
   ],
   "source": [
    "#rank the features based on the \"minimum Redundancy - Maximum Relevance\" filter feature selection algorithm\n",
    "selected_features = mrmr_classif(X=X, y=y, K=13)"
   ]
  },
  {
   "cell_type": "code",
   "execution_count": 42,
   "id": "562b8942",
   "metadata": {},
   "outputs": [
    {
     "data": {
      "text/plain": [
       "['volatile_acidity',\n",
       " 'fixed_acidity',\n",
       " 'free_sulfur_dioxide',\n",
       " 'chlorides',\n",
       " 'residual_sugar',\n",
       " 'sulphates',\n",
       " 'alcohol',\n",
       " 'citric_acid',\n",
       " 'vf_redundant',\n",
       " 'total_sulfur_dioxide',\n",
       " 'density',\n",
       " 'pH',\n",
       " 'vf_irrelevant']"
      ]
     },
     "execution_count": 42,
     "metadata": {},
     "output_type": "execute_result"
    }
   ],
   "source": [
    "#ranked features\n",
    "selected_features"
   ]
  },
  {
   "cell_type": "code",
   "execution_count": 43,
   "id": "39bce568",
   "metadata": {},
   "outputs": [],
   "source": [
    "#eliminate the last ranked feature\n",
    "X=X[X.columns.intersection(selected_features[0:12])]"
   ]
  },
  {
   "cell_type": "code",
   "execution_count": 44,
   "id": "5c031e18",
   "metadata": {},
   "outputs": [
    {
     "data": {
      "text/html": [
       "<div>\n",
       "<style scoped>\n",
       "    .dataframe tbody tr th:only-of-type {\n",
       "        vertical-align: middle;\n",
       "    }\n",
       "\n",
       "    .dataframe tbody tr th {\n",
       "        vertical-align: top;\n",
       "    }\n",
       "\n",
       "    .dataframe thead th {\n",
       "        text-align: right;\n",
       "    }\n",
       "</style>\n",
       "<table border=\"1\" class=\"dataframe\">\n",
       "  <thead>\n",
       "    <tr style=\"text-align: right;\">\n",
       "      <th></th>\n",
       "      <th>fixed_acidity</th>\n",
       "      <th>volatile_acidity</th>\n",
       "      <th>citric_acid</th>\n",
       "      <th>residual_sugar</th>\n",
       "      <th>chlorides</th>\n",
       "      <th>free_sulfur_dioxide</th>\n",
       "      <th>total_sulfur_dioxide</th>\n",
       "      <th>density</th>\n",
       "      <th>pH</th>\n",
       "      <th>sulphates</th>\n",
       "      <th>alcohol</th>\n",
       "      <th>vf_redundant</th>\n",
       "    </tr>\n",
       "  </thead>\n",
       "  <tbody>\n",
       "    <tr>\n",
       "      <th>fixed_acidity</th>\n",
       "      <td>1.000000</td>\n",
       "      <td>-0.024714</td>\n",
       "      <td>0.289355</td>\n",
       "      <td>0.085975</td>\n",
       "      <td>0.023406</td>\n",
       "      <td>-0.049068</td>\n",
       "      <td>0.090619</td>\n",
       "      <td>0.267536</td>\n",
       "      <td>-0.426512</td>\n",
       "      <td>-0.017163</td>\n",
       "      <td>-0.119850</td>\n",
       "      <td>0.289355</td>\n",
       "    </tr>\n",
       "    <tr>\n",
       "      <th>volatile_acidity</th>\n",
       "      <td>-0.024714</td>\n",
       "      <td>1.000000</td>\n",
       "      <td>-0.152958</td>\n",
       "      <td>0.046094</td>\n",
       "      <td>0.070001</td>\n",
       "      <td>-0.094810</td>\n",
       "      <td>0.089198</td>\n",
       "      <td>0.003228</td>\n",
       "      <td>-0.033459</td>\n",
       "      <td>-0.037920</td>\n",
       "      <td>0.067298</td>\n",
       "      <td>-0.152958</td>\n",
       "    </tr>\n",
       "    <tr>\n",
       "      <th>citric_acid</th>\n",
       "      <td>0.289355</td>\n",
       "      <td>-0.152958</td>\n",
       "      <td>1.000000</td>\n",
       "      <td>0.091397</td>\n",
       "      <td>0.113167</td>\n",
       "      <td>0.094318</td>\n",
       "      <td>0.120789</td>\n",
       "      <td>0.148291</td>\n",
       "      <td>-0.164382</td>\n",
       "      <td>0.061691</td>\n",
       "      <td>-0.076467</td>\n",
       "      <td>1.000000</td>\n",
       "    </tr>\n",
       "    <tr>\n",
       "      <th>residual_sugar</th>\n",
       "      <td>0.085975</td>\n",
       "      <td>0.046094</td>\n",
       "      <td>0.091397</td>\n",
       "      <td>1.000000</td>\n",
       "      <td>0.085685</td>\n",
       "      <td>0.309713</td>\n",
       "      <td>0.408149</td>\n",
       "      <td>0.831570</td>\n",
       "      <td>-0.199056</td>\n",
       "      <td>-0.027709</td>\n",
       "      <td>-0.462482</td>\n",
       "      <td>0.091397</td>\n",
       "    </tr>\n",
       "    <tr>\n",
       "      <th>chlorides</th>\n",
       "      <td>0.023406</td>\n",
       "      <td>0.070001</td>\n",
       "      <td>0.113167</td>\n",
       "      <td>0.085685</td>\n",
       "      <td>1.000000</td>\n",
       "      <td>0.101018</td>\n",
       "      <td>0.199090</td>\n",
       "      <td>0.261312</td>\n",
       "      <td>-0.090678</td>\n",
       "      <td>0.017186</td>\n",
       "      <td>-0.362290</td>\n",
       "      <td>0.113167</td>\n",
       "    </tr>\n",
       "    <tr>\n",
       "      <th>free_sulfur_dioxide</th>\n",
       "      <td>-0.049068</td>\n",
       "      <td>-0.094810</td>\n",
       "      <td>0.094318</td>\n",
       "      <td>0.309713</td>\n",
       "      <td>0.101018</td>\n",
       "      <td>1.000000</td>\n",
       "      <td>0.615974</td>\n",
       "      <td>0.309059</td>\n",
       "      <td>0.000400</td>\n",
       "      <td>0.060069</td>\n",
       "      <td>-0.250512</td>\n",
       "      <td>0.094318</td>\n",
       "    </tr>\n",
       "    <tr>\n",
       "      <th>total_sulfur_dioxide</th>\n",
       "      <td>0.090619</td>\n",
       "      <td>0.089198</td>\n",
       "      <td>0.120789</td>\n",
       "      <td>0.408149</td>\n",
       "      <td>0.199090</td>\n",
       "      <td>0.615974</td>\n",
       "      <td>1.000000</td>\n",
       "      <td>0.543690</td>\n",
       "      <td>0.002856</td>\n",
       "      <td>0.134748</td>\n",
       "      <td>-0.448612</td>\n",
       "      <td>0.120789</td>\n",
       "    </tr>\n",
       "    <tr>\n",
       "      <th>density</th>\n",
       "      <td>0.267536</td>\n",
       "      <td>0.003228</td>\n",
       "      <td>0.148291</td>\n",
       "      <td>0.831570</td>\n",
       "      <td>0.261312</td>\n",
       "      <td>0.309059</td>\n",
       "      <td>0.543690</td>\n",
       "      <td>1.000000</td>\n",
       "      <td>-0.098492</td>\n",
       "      <td>0.074801</td>\n",
       "      <td>-0.806471</td>\n",
       "      <td>0.148291</td>\n",
       "    </tr>\n",
       "    <tr>\n",
       "      <th>pH</th>\n",
       "      <td>-0.426512</td>\n",
       "      <td>-0.033459</td>\n",
       "      <td>-0.164382</td>\n",
       "      <td>-0.199056</td>\n",
       "      <td>-0.090678</td>\n",
       "      <td>0.000400</td>\n",
       "      <td>0.002856</td>\n",
       "      <td>-0.098492</td>\n",
       "      <td>1.000000</td>\n",
       "      <td>0.155226</td>\n",
       "      <td>0.121211</td>\n",
       "      <td>-0.164382</td>\n",
       "    </tr>\n",
       "    <tr>\n",
       "      <th>sulphates</th>\n",
       "      <td>-0.017163</td>\n",
       "      <td>-0.037920</td>\n",
       "      <td>0.061691</td>\n",
       "      <td>-0.027709</td>\n",
       "      <td>0.017186</td>\n",
       "      <td>0.060069</td>\n",
       "      <td>0.134748</td>\n",
       "      <td>0.074801</td>\n",
       "      <td>0.155226</td>\n",
       "      <td>1.000000</td>\n",
       "      <td>-0.017963</td>\n",
       "      <td>0.061691</td>\n",
       "    </tr>\n",
       "    <tr>\n",
       "      <th>alcohol</th>\n",
       "      <td>-0.119850</td>\n",
       "      <td>0.067298</td>\n",
       "      <td>-0.076467</td>\n",
       "      <td>-0.462482</td>\n",
       "      <td>-0.362290</td>\n",
       "      <td>-0.250512</td>\n",
       "      <td>-0.448612</td>\n",
       "      <td>-0.806471</td>\n",
       "      <td>0.121211</td>\n",
       "      <td>-0.017963</td>\n",
       "      <td>1.000000</td>\n",
       "      <td>-0.076467</td>\n",
       "    </tr>\n",
       "    <tr>\n",
       "      <th>vf_redundant</th>\n",
       "      <td>0.289355</td>\n",
       "      <td>-0.152958</td>\n",
       "      <td>1.000000</td>\n",
       "      <td>0.091397</td>\n",
       "      <td>0.113167</td>\n",
       "      <td>0.094318</td>\n",
       "      <td>0.120789</td>\n",
       "      <td>0.148291</td>\n",
       "      <td>-0.164382</td>\n",
       "      <td>0.061691</td>\n",
       "      <td>-0.076467</td>\n",
       "      <td>1.000000</td>\n",
       "    </tr>\n",
       "  </tbody>\n",
       "</table>\n",
       "</div>"
      ],
      "text/plain": [
       "                      fixed_acidity  volatile_acidity  citric_acid  \\\n",
       "fixed_acidity              1.000000         -0.024714     0.289355   \n",
       "volatile_acidity          -0.024714          1.000000    -0.152958   \n",
       "citric_acid                0.289355         -0.152958     1.000000   \n",
       "residual_sugar             0.085975          0.046094     0.091397   \n",
       "chlorides                  0.023406          0.070001     0.113167   \n",
       "free_sulfur_dioxide       -0.049068         -0.094810     0.094318   \n",
       "total_sulfur_dioxide       0.090619          0.089198     0.120789   \n",
       "density                    0.267536          0.003228     0.148291   \n",
       "pH                        -0.426512         -0.033459    -0.164382   \n",
       "sulphates                 -0.017163         -0.037920     0.061691   \n",
       "alcohol                   -0.119850          0.067298    -0.076467   \n",
       "vf_redundant               0.289355         -0.152958     1.000000   \n",
       "\n",
       "                      residual_sugar  chlorides  free_sulfur_dioxide  \\\n",
       "fixed_acidity               0.085975   0.023406            -0.049068   \n",
       "volatile_acidity            0.046094   0.070001            -0.094810   \n",
       "citric_acid                 0.091397   0.113167             0.094318   \n",
       "residual_sugar              1.000000   0.085685             0.309713   \n",
       "chlorides                   0.085685   1.000000             0.101018   \n",
       "free_sulfur_dioxide         0.309713   0.101018             1.000000   \n",
       "total_sulfur_dioxide        0.408149   0.199090             0.615974   \n",
       "density                     0.831570   0.261312             0.309059   \n",
       "pH                         -0.199056  -0.090678             0.000400   \n",
       "sulphates                  -0.027709   0.017186             0.060069   \n",
       "alcohol                    -0.462482  -0.362290            -0.250512   \n",
       "vf_redundant                0.091397   0.113167             0.094318   \n",
       "\n",
       "                      total_sulfur_dioxide   density        pH  sulphates  \\\n",
       "fixed_acidity                     0.090619  0.267536 -0.426512  -0.017163   \n",
       "volatile_acidity                  0.089198  0.003228 -0.033459  -0.037920   \n",
       "citric_acid                       0.120789  0.148291 -0.164382   0.061691   \n",
       "residual_sugar                    0.408149  0.831570 -0.199056  -0.027709   \n",
       "chlorides                         0.199090  0.261312 -0.090678   0.017186   \n",
       "free_sulfur_dioxide               0.615974  0.309059  0.000400   0.060069   \n",
       "total_sulfur_dioxide              1.000000  0.543690  0.002856   0.134748   \n",
       "density                           0.543690  1.000000 -0.098492   0.074801   \n",
       "pH                                0.002856 -0.098492  1.000000   0.155226   \n",
       "sulphates                         0.134748  0.074801  0.155226   1.000000   \n",
       "alcohol                          -0.448612 -0.806471  0.121211  -0.017963   \n",
       "vf_redundant                      0.120789  0.148291 -0.164382   0.061691   \n",
       "\n",
       "                       alcohol  vf_redundant  \n",
       "fixed_acidity        -0.119850      0.289355  \n",
       "volatile_acidity      0.067298     -0.152958  \n",
       "citric_acid          -0.076467      1.000000  \n",
       "residual_sugar       -0.462482      0.091397  \n",
       "chlorides            -0.362290      0.113167  \n",
       "free_sulfur_dioxide  -0.250512      0.094318  \n",
       "total_sulfur_dioxide -0.448612      0.120789  \n",
       "density              -0.806471      0.148291  \n",
       "pH                    0.121211     -0.164382  \n",
       "sulphates            -0.017963      0.061691  \n",
       "alcohol               1.000000     -0.076467  \n",
       "vf_redundant         -0.076467      1.000000  "
      ]
     },
     "execution_count": 44,
     "metadata": {},
     "output_type": "execute_result"
    }
   ],
   "source": [
    "#correlation analysis\n",
    "X.corr()"
   ]
  },
  {
   "cell_type": "code",
   "execution_count": 45,
   "id": "ae3f6a2c",
   "metadata": {},
   "outputs": [
    {
     "data": {
      "image/png": "[encoded data removed]",
      "text/plain": [
       "<Figure size 640x480 with 2 Axes>"
      ]
     },
     "metadata": {},
     "output_type": "display_data"
    }
   ],
   "source": [
    "#visualize correlations\n",
    "sns.heatmap(X.corr());"
   ]
  },
  {
   "cell_type": "code",
   "execution_count": 46,
   "id": "58675b85",
   "metadata": {},
   "outputs": [],
   "source": [
    "#delete the highly coreelated feature\n",
    "X = X.drop('vf_redundant', axis=1)"
   ]
  },
  {
   "cell_type": "code",
   "execution_count": 47,
   "id": "91fbae14",
   "metadata": {},
   "outputs": [
    {
     "data": {
      "text/html": [
       "<div>\n",
       "<style scoped>\n",
       "    .dataframe tbody tr th:only-of-type {\n",
       "        vertical-align: middle;\n",
       "    }\n",
       "\n",
       "    .dataframe tbody tr th {\n",
       "        vertical-align: top;\n",
       "    }\n",
       "\n",
       "    .dataframe thead th {\n",
       "        text-align: right;\n",
       "    }\n",
       "</style>\n",
       "<table border=\"1\" class=\"dataframe\">\n",
       "  <thead>\n",
       "    <tr style=\"text-align: right;\">\n",
       "      <th></th>\n",
       "      <th>fixed_acidity</th>\n",
       "      <th>volatile_acidity</th>\n",
       "      <th>citric_acid</th>\n",
       "      <th>residual_sugar</th>\n",
       "      <th>chlorides</th>\n",
       "      <th>free_sulfur_dioxide</th>\n",
       "      <th>total_sulfur_dioxide</th>\n",
       "      <th>density</th>\n",
       "      <th>pH</th>\n",
       "      <th>sulphates</th>\n",
       "      <th>alcohol</th>\n",
       "    </tr>\n",
       "  </thead>\n",
       "  <tbody>\n",
       "    <tr>\n",
       "      <th>0</th>\n",
       "      <td>6.0</td>\n",
       "      <td>0.27</td>\n",
       "      <td>0.36</td>\n",
       "      <td>20.7</td>\n",
       "      <td>0.045</td>\n",
       "      <td>45.0</td>\n",
       "      <td>170.0</td>\n",
       "      <td>1.0010</td>\n",
       "      <td>3.00</td>\n",
       "      <td>0.45</td>\n",
       "      <td>8.8</td>\n",
       "    </tr>\n",
       "    <tr>\n",
       "      <th>3</th>\n",
       "      <td>7.2</td>\n",
       "      <td>0.23</td>\n",
       "      <td>0.32</td>\n",
       "      <td>8.5</td>\n",
       "      <td>0.058</td>\n",
       "      <td>47.0</td>\n",
       "      <td>186.0</td>\n",
       "      <td>0.9956</td>\n",
       "      <td>3.19</td>\n",
       "      <td>0.40</td>\n",
       "      <td>9.9</td>\n",
       "    </tr>\n",
       "    <tr>\n",
       "      <th>4</th>\n",
       "      <td>7.2</td>\n",
       "      <td>0.23</td>\n",
       "      <td>0.32</td>\n",
       "      <td>8.5</td>\n",
       "      <td>0.058</td>\n",
       "      <td>47.0</td>\n",
       "      <td>186.0</td>\n",
       "      <td>0.9956</td>\n",
       "      <td>3.19</td>\n",
       "      <td>0.40</td>\n",
       "      <td>9.9</td>\n",
       "    </tr>\n",
       "    <tr>\n",
       "      <th>5</th>\n",
       "      <td>8.1</td>\n",
       "      <td>0.28</td>\n",
       "      <td>0.40</td>\n",
       "      <td>6.9</td>\n",
       "      <td>0.050</td>\n",
       "      <td>30.0</td>\n",
       "      <td>97.0</td>\n",
       "      <td>0.9951</td>\n",
       "      <td>3.26</td>\n",
       "      <td>0.44</td>\n",
       "      <td>10.1</td>\n",
       "    </tr>\n",
       "    <tr>\n",
       "      <th>6</th>\n",
       "      <td>6.2</td>\n",
       "      <td>0.32</td>\n",
       "      <td>0.16</td>\n",
       "      <td>7.0</td>\n",
       "      <td>0.045</td>\n",
       "      <td>30.0</td>\n",
       "      <td>136.0</td>\n",
       "      <td>0.9949</td>\n",
       "      <td>3.18</td>\n",
       "      <td>0.47</td>\n",
       "      <td>9.6</td>\n",
       "    </tr>\n",
       "  </tbody>\n",
       "</table>\n",
       "</div>"
      ],
      "text/plain": [
       "   fixed_acidity  volatile_acidity  citric_acid  residual_sugar  chlorides  \\\n",
       "0            6.0              0.27         0.36            20.7      0.045   \n",
       "3            7.2              0.23         0.32             8.5      0.058   \n",
       "4            7.2              0.23         0.32             8.5      0.058   \n",
       "5            8.1              0.28         0.40             6.9      0.050   \n",
       "6            6.2              0.32         0.16             7.0      0.045   \n",
       "\n",
       "   free_sulfur_dioxide  total_sulfur_dioxide  density    pH  sulphates  \\\n",
       "0                 45.0                 170.0   1.0010  3.00       0.45   \n",
       "3                 47.0                 186.0   0.9956  3.19       0.40   \n",
       "4                 47.0                 186.0   0.9956  3.19       0.40   \n",
       "5                 30.0                  97.0   0.9951  3.26       0.44   \n",
       "6                 30.0                 136.0   0.9949  3.18       0.47   \n",
       "\n",
       "   alcohol  \n",
       "0      8.8  \n",
       "3      9.9  \n",
       "4      9.9  \n",
       "5     10.1  \n",
       "6      9.6  "
      ]
     },
     "execution_count": 47,
     "metadata": {},
     "output_type": "execute_result"
    }
   ],
   "source": [
    "X.head()"
   ]
  },
  {
   "cell_type": "code",
   "execution_count": 48,
   "id": "f2948c9f",
   "metadata": {},
   "outputs": [],
   "source": [
    "#split the data into training (90%) and validation (10%)\n",
    "X_train, X_test, y_train, y_test = train_test_split(X, y, test_size=0.10, random_state=42)"
   ]
  },
  {
   "cell_type": "code",
   "execution_count": 49,
   "id": "34feb383",
   "metadata": {},
   "outputs": [
    {
     "data": {
      "text/plain": [
       "0    4240\n",
       "1     160\n",
       "Name: binary_quality, dtype: int64"
      ]
     },
     "execution_count": 49,
     "metadata": {},
     "output_type": "execute_result"
    }
   ],
   "source": [
    "#samples by labels\n",
    "y_train.value_counts()"
   ]
  },
  {
   "cell_type": "code",
   "execution_count": 50,
   "id": "7e69769f",
   "metadata": {},
   "outputs": [
    {
     "data": {
      "text/plain": [
       "0    466\n",
       "1     23\n",
       "Name: binary_quality, dtype: int64"
      ]
     },
     "execution_count": 50,
     "metadata": {},
     "output_type": "execute_result"
    }
   ],
   "source": [
    "#samples by labels\n",
    "y_test.value_counts()"
   ]
  },
  {
   "cell_type": "code",
   "execution_count": 51,
   "id": "9d1b785d",
   "metadata": {},
   "outputs": [],
   "source": [
    "#Create a XGBoost instance\n",
    "clf = xgb.XGBClassifier(objective='binary:logistic')  "
   ]
  },
  {
   "cell_type": "code",
   "execution_count": 52,
   "id": "87af6f92",
   "metadata": {},
   "outputs": [
    {
     "name": "stdout",
     "output_type": "stream",
     "text": [
      "[0]\tvalidation_0-aucpr:0.16536\n",
      "[1]\tvalidation_0-aucpr:0.22849\n",
      "[2]\tvalidation_0-aucpr:0.28628\n",
      "[3]\tvalidation_0-aucpr:0.31827\n",
      "[4]\tvalidation_0-aucpr:0.29235\n",
      "[5]\tvalidation_0-aucpr:0.30649\n",
      "[6]\tvalidation_0-aucpr:0.33453\n",
      "[7]\tvalidation_0-aucpr:0.32457\n",
      "[8]\tvalidation_0-aucpr:0.34125\n",
      "[9]\tvalidation_0-aucpr:0.37104\n",
      "[10]\tvalidation_0-aucpr:0.38409\n",
      "[11]\tvalidation_0-aucpr:0.37385\n",
      "[12]\tvalidation_0-aucpr:0.39856\n",
      "[13]\tvalidation_0-aucpr:0.38757\n",
      "[14]\tvalidation_0-aucpr:0.38111\n",
      "[15]\tvalidation_0-aucpr:0.40453\n",
      "[16]\tvalidation_0-aucpr:0.39329\n",
      "[17]\tvalidation_0-aucpr:0.43310\n",
      "[18]\tvalidation_0-aucpr:0.42622\n",
      "[19]\tvalidation_0-aucpr:0.42789\n",
      "[20]\tvalidation_0-aucpr:0.43353\n",
      "[21]\tvalidation_0-aucpr:0.43970\n",
      "[22]\tvalidation_0-aucpr:0.44942\n",
      "[23]\tvalidation_0-aucpr:0.44703\n",
      "[24]\tvalidation_0-aucpr:0.46015\n",
      "[25]\tvalidation_0-aucpr:0.45151\n",
      "[26]\tvalidation_0-aucpr:0.47271\n",
      "[27]\tvalidation_0-aucpr:0.47942\n",
      "[28]\tvalidation_0-aucpr:0.51480\n",
      "[29]\tvalidation_0-aucpr:0.49261\n",
      "[30]\tvalidation_0-aucpr:0.53367\n",
      "[31]\tvalidation_0-aucpr:0.54775\n",
      "[32]\tvalidation_0-aucpr:0.55803\n",
      "[33]\tvalidation_0-aucpr:0.55561\n",
      "[34]\tvalidation_0-aucpr:0.55085\n",
      "[35]\tvalidation_0-aucpr:0.56715\n",
      "[36]\tvalidation_0-aucpr:0.55083\n",
      "[37]\tvalidation_0-aucpr:0.55827\n",
      "[38]\tvalidation_0-aucpr:0.56314\n",
      "[39]\tvalidation_0-aucpr:0.56538\n",
      "[40]\tvalidation_0-aucpr:0.55603\n",
      "[41]\tvalidation_0-aucpr:0.55462\n",
      "[42]\tvalidation_0-aucpr:0.54252\n",
      "[43]\tvalidation_0-aucpr:0.54771\n",
      "[44]\tvalidation_0-aucpr:0.54756\n",
      "[45]\tvalidation_0-aucpr:0.54854\n",
      "[46]\tvalidation_0-aucpr:0.55133\n",
      "[47]\tvalidation_0-aucpr:0.54576\n",
      "[48]\tvalidation_0-aucpr:0.54325\n",
      "[49]\tvalidation_0-aucpr:0.54721\n",
      "[50]\tvalidation_0-aucpr:0.54088\n",
      "[51]\tvalidation_0-aucpr:0.54453\n",
      "[52]\tvalidation_0-aucpr:0.54800\n",
      "[53]\tvalidation_0-aucpr:0.55060\n",
      "[54]\tvalidation_0-aucpr:0.55429\n",
      "[55]\tvalidation_0-aucpr:0.54327\n",
      "[56]\tvalidation_0-aucpr:0.51422\n",
      "[57]\tvalidation_0-aucpr:0.57765\n",
      "[58]\tvalidation_0-aucpr:0.55096\n",
      "[59]\tvalidation_0-aucpr:0.56928\n",
      "[60]\tvalidation_0-aucpr:0.54982\n",
      "[61]\tvalidation_0-aucpr:0.55015\n",
      "[62]\tvalidation_0-aucpr:0.52025\n",
      "[63]\tvalidation_0-aucpr:0.52138\n",
      "[64]\tvalidation_0-aucpr:0.52493\n",
      "[65]\tvalidation_0-aucpr:0.52291\n",
      "[66]\tvalidation_0-aucpr:0.52303\n",
      "[67]\tvalidation_0-aucpr:0.52661\n",
      "[68]\tvalidation_0-aucpr:0.55668\n",
      "[69]\tvalidation_0-aucpr:0.53165\n",
      "[70]\tvalidation_0-aucpr:0.53388\n",
      "[71]\tvalidation_0-aucpr:0.52991\n",
      "[72]\tvalidation_0-aucpr:0.52826\n",
      "[73]\tvalidation_0-aucpr:0.52910\n",
      "[74]\tvalidation_0-aucpr:0.53172\n",
      "[75]\tvalidation_0-aucpr:0.53180\n",
      "[76]\tvalidation_0-aucpr:0.55892\n",
      "[77]\tvalidation_0-aucpr:0.53032\n",
      "[78]\tvalidation_0-aucpr:0.52917\n",
      "[79]\tvalidation_0-aucpr:0.53610\n",
      "[80]\tvalidation_0-aucpr:0.53627\n",
      "[81]\tvalidation_0-aucpr:0.53489\n",
      "[82]\tvalidation_0-aucpr:0.52222\n",
      "[83]\tvalidation_0-aucpr:0.52130\n",
      "[84]\tvalidation_0-aucpr:0.52774\n",
      "[85]\tvalidation_0-aucpr:0.52354\n",
      "[86]\tvalidation_0-aucpr:0.55995\n",
      "[87]\tvalidation_0-aucpr:0.55542\n",
      "[88]\tvalidation_0-aucpr:0.57951\n",
      "[89]\tvalidation_0-aucpr:0.56334\n",
      "[90]\tvalidation_0-aucpr:0.56003\n",
      "[91]\tvalidation_0-aucpr:0.55669\n",
      "[92]\tvalidation_0-aucpr:0.57614\n",
      "[93]\tvalidation_0-aucpr:0.57466\n",
      "[94]\tvalidation_0-aucpr:0.58147\n",
      "[95]\tvalidation_0-aucpr:0.57173\n",
      "[96]\tvalidation_0-aucpr:0.57520\n",
      "[97]\tvalidation_0-aucpr:0.57088\n",
      "[98]\tvalidation_0-aucpr:0.55311\n",
      "[99]\tvalidation_0-aucpr:0.55390\n"
     ]
    },
    {
     "data": {
      "text/html": [
       "<style>#sk-container-id-1 {color: black;background-color: white;}#sk-container-id-1 pre{padding: 0;}#sk-container-id-1 div.sk-toggleable {background-color: white;}#sk-container-id-1 label.sk-toggleable__label {cursor: pointer;display: block;width: 100%;margin-bottom: 0;padding: 0.3em;box-sizing: border-box;text-align: center;}#sk-container-id-1 label.sk-toggleable__label-arrow:before {content: \"▸\";float: left;margin-right: 0.25em;color: #696969;}#sk-container-id-1 label.sk-toggleable__label-arrow:hover:before {color: black;}#sk-container-id-1 div.sk-estimator:hover label.sk-toggleable__label-arrow:before {color: black;}#sk-container-id-1 div.sk-toggleable__content {max-height: 0;max-width: 0;overflow: hidden;text-align: left;background-color: #f0f8ff;}#sk-container-id-1 div.sk-toggleable__content pre {margin: 0.2em;color: black;border-radius: 0.25em;background-color: #f0f8ff;}#sk-container-id-1 input.sk-toggleable__control:checked~div.sk-toggleable__content {max-height: 200px;max-width: 100%;overflow: auto;}#sk-container-id-1 input.sk-toggleable__control:checked~label.sk-toggleable__label-arrow:before {content: \"▾\";}#sk-container-id-1 div.sk-estimator input.sk-toggleable__control:checked~label.sk-toggleable__label {background-color: #d4ebff;}#sk-container-id-1 div.sk-label input.sk-toggleable__control:checked~label.sk-toggleable__label {background-color: #d4ebff;}#sk-container-id-1 input.sk-hidden--visually {border: 0;clip: rect(1px 1px 1px 1px);clip: rect(1px, 1px, 1px, 1px);height: 1px;margin: -1px;overflow: hidden;padding: 0;position: absolute;width: 1px;}#sk-container-id-1 div.sk-estimator {font-family: monospace;background-color: #f0f8ff;border: 1px dotted black;border-radius: 0.25em;box-sizing: border-box;margin-bottom: 0.5em;}#sk-container-id-1 div.sk-estimator:hover {background-color: #d4ebff;}#sk-container-id-1 div.sk-parallel-item::after {content: \"\";width: 100%;border-bottom: 1px solid gray;flex-grow: 1;}#sk-container-id-1 div.sk-label:hover label.sk-toggleable__label {background-color: #d4ebff;}#sk-container-id-1 div.sk-serial::before {content: \"\";position: absolute;border-left: 1px solid gray;box-sizing: border-box;top: 0;bottom: 0;left: 50%;z-index: 0;}#sk-container-id-1 div.sk-serial {display: flex;flex-direction: column;align-items: center;background-color: white;padding-right: 0.2em;padding-left: 0.2em;position: relative;}#sk-container-id-1 div.sk-item {position: relative;z-index: 1;}#sk-container-id-1 div.sk-parallel {display: flex;align-items: stretch;justify-content: center;background-color: white;position: relative;}#sk-container-id-1 div.sk-item::before, #sk-container-id-1 div.sk-parallel-item::before {content: \"\";position: absolute;border-left: 1px solid gray;box-sizing: border-box;top: 0;bottom: 0;left: 50%;z-index: -1;}#sk-container-id-1 div.sk-parallel-item {display: flex;flex-direction: column;z-index: 1;position: relative;background-color: white;}#sk-container-id-1 div.sk-parallel-item:first-child::after {align-self: flex-end;width: 50%;}#sk-container-id-1 div.sk-parallel-item:last-child::after {align-self: flex-start;width: 50%;}#sk-container-id-1 div.sk-parallel-item:only-child::after {width: 0;}#sk-container-id-1 div.sk-dashed-wrapped {border: 1px dashed gray;margin: 0 0.4em 0.5em 0.4em;box-sizing: border-box;padding-bottom: 0.4em;background-color: white;}#sk-container-id-1 div.sk-label label {font-family: monospace;font-weight: bold;display: inline-block;line-height: 1.2em;}#sk-container-id-1 div.sk-label-container {text-align: center;}#sk-container-id-1 div.sk-container {/* jupyter's `normalize.less` sets `[hidden] { display: none; }` but bootstrap.min.css set `[hidden] { display: none !important; }` so we also need the `!important` here to be able to override the default hidden behavior on the sphinx rendered scikit-learn.org. See: https://github.com/scikit-learn/scikit-learn/issues/21755 */display: inline-block !important;position: relative;}#sk-container-id-1 div.sk-text-repr-fallback {display: none;}</style><div id=\"sk-container-id-1\" class=\"sk-top-container\"><div class=\"sk-text-repr-fallback\"><pre>XGBClassifier(base_score=None, booster=None, callbacks=None,\n",
       "              colsample_bylevel=None, colsample_bynode=None,\n",
       "              colsample_bytree=None, early_stopping_rounds=None,\n",
       "              enable_categorical=False, eval_metric=None, feature_types=None,\n",
       "              gamma=None, gpu_id=None, grow_policy=None, importance_type=None,\n",
       "              interaction_constraints=None, learning_rate=None, max_bin=None,\n",
       "              max_cat_threshold=None, max_cat_to_onehot=None,\n",
       "              max_delta_step=None, max_depth=None, max_leaves=None,\n",
       "              min_child_weight=None, missing=nan, monotone_constraints=None,\n",
       "              n_estimators=100, n_jobs=None, num_parallel_tree=None,\n",
       "              predictor=None, random_state=None, ...)</pre><b>In a Jupyter environment, please rerun this cell to show the HTML representation or trust the notebook. <br />On GitHub, the HTML representation is unable to render, please try loading this page with nbviewer.org.</b></div><div class=\"sk-container\" hidden><div class=\"sk-item\"><div class=\"sk-estimator sk-toggleable\"><input class=\"sk-toggleable__control sk-hidden--visually\" id=\"sk-estimator-id-1\" type=\"checkbox\" checked><label for=\"sk-estimator-id-1\" class=\"sk-toggleable__label sk-toggleable__label-arrow\">XGBClassifier</label><div class=\"sk-toggleable__content\"><pre>XGBClassifier(base_score=None, booster=None, callbacks=None,\n",
       "              colsample_bylevel=None, colsample_bynode=None,\n",
       "              colsample_bytree=None, early_stopping_rounds=None,\n",
       "              enable_categorical=False, eval_metric=None, feature_types=None,\n",
       "              gamma=None, gpu_id=None, grow_policy=None, importance_type=None,\n",
       "              interaction_constraints=None, learning_rate=None, max_bin=None,\n",
       "              max_cat_threshold=None, max_cat_to_onehot=None,\n",
       "              max_delta_step=None, max_depth=None, max_leaves=None,\n",
       "              min_child_weight=None, missing=nan, monotone_constraints=None,\n",
       "              n_estimators=100, n_jobs=None, num_parallel_tree=None,\n",
       "              predictor=None, random_state=None, ...)</pre></div></div></div></div></div>"
      ],
      "text/plain": [
       "XGBClassifier(base_score=None, booster=None, callbacks=None,\n",
       "              colsample_bylevel=None, colsample_bynode=None,\n",
       "              colsample_bytree=None, early_stopping_rounds=None,\n",
       "              enable_categorical=False, eval_metric=None, feature_types=None,\n",
       "              gamma=None, gpu_id=None, grow_policy=None, importance_type=None,\n",
       "              interaction_constraints=None, learning_rate=None, max_bin=None,\n",
       "              max_cat_threshold=None, max_cat_to_onehot=None,\n",
       "              max_delta_step=None, max_depth=None, max_leaves=None,\n",
       "              min_child_weight=None, missing=nan, monotone_constraints=None,\n",
       "              n_estimators=100, n_jobs=None, num_parallel_tree=None,\n",
       "              predictor=None, random_state=None, ...)"
      ]
     },
     "execution_count": 52,
     "metadata": {},
     "output_type": "execute_result"
    }
   ],
   "source": [
    "#Train the model \n",
    "clf.fit(X_train, y_train, verbose=True, early_stopping_rounds=100, eval_metric='aucpr', eval_set=[(X_test,y_test)])"
   ]
  },
  {
   "cell_type": "code",
   "execution_count": 53,
   "id": "513a8f33",
   "metadata": {},
   "outputs": [],
   "source": [
    "#Predict the response for test dataset\n",
    "y_pred = clf.predict(X_test)#predict classification\n",
    "y_pred_prob = clf.predict_proba(X_test)#predict probabilities\n",
    "y_pred_prob=y_pred_prob[:,1]"
   ]
  },
  {
   "cell_type": "code",
   "execution_count": 54,
   "id": "53d2b017",
   "metadata": {},
   "outputs": [
    {
     "data": {
      "text/plain": [
       "array([0.00010048, 0.00020017], dtype=float32)"
      ]
     },
     "execution_count": 54,
     "metadata": {},
     "output_type": "execute_result"
    }
   ],
   "source": [
    "y_pred_prob[0:2]"
   ]
  },
  {
   "cell_type": "code",
   "execution_count": 55,
   "id": "6de8801d",
   "metadata": {},
   "outputs": [
    {
     "data": {
      "text/plain": [
       "146     0\n",
       "81      0\n",
       "2104    0\n",
       "4748    0\n",
       "2865    0\n",
       "1166    0\n",
       "789     0\n",
       "1506    0\n",
       "289     0\n",
       "2614    0\n",
       "Name: binary_quality, dtype: int32"
      ]
     },
     "execution_count": 55,
     "metadata": {},
     "output_type": "execute_result"
    }
   ],
   "source": [
    "y_test[0:10]"
   ]
  },
  {
   "cell_type": "code",
   "execution_count": 56,
   "id": "ab622a0d",
   "metadata": {},
   "outputs": [],
   "source": [
    "#create the confusion matrix\n",
    "confusion_matrix = metrics.confusion_matrix(y_test, y_pred)"
   ]
  },
  {
   "cell_type": "code",
   "execution_count": 57,
   "id": "a3263a9a",
   "metadata": {},
   "outputs": [
    {
     "data": {
      "image/png": "[encoded data removed]",
      "text/plain": [
       "<Figure size 640x480 with 2 Axes>"
      ]
     },
     "metadata": {},
     "output_type": "display_data"
    }
   ],
   "source": [
    "#display the confusion matrix\n",
    "cm_display = metrics.ConfusionMatrixDisplay(confusion_matrix = confusion_matrix)\n",
    "cm_display.plot()\n",
    "plt.show()"
   ]
  },
  {
   "cell_type": "code",
   "execution_count": 58,
   "id": "875c7584",
   "metadata": {},
   "outputs": [],
   "source": [
    "#assign values to the four elements of the confusion matrix\n",
    "tn,fp,fn,tp=metrics.confusion_matrix(y_test, y_pred).ravel()"
   ]
  },
  {
   "cell_type": "code",
   "execution_count": 59,
   "id": "2c858759",
   "metadata": {},
   "outputs": [],
   "source": [
    "#compute the alpha, beta, and gmeans\n",
    "alpha=fp/(fp+tn)\n",
    "beta=fn/(fn+tp)\n",
    "gmeans=np.sqrt((1-alpha)*(1-beta))"
   ]
  },
  {
   "cell_type": "code",
   "execution_count": 60,
   "id": "d09a5d20",
   "metadata": {},
   "outputs": [
    {
     "name": "stdout",
     "output_type": "stream",
     "text": [
      "Alpha: 0.43 %\n",
      "Beta: 73.91 %\n",
      "Gmeans: 0.51\n"
     ]
    }
   ],
   "source": [
    "#print metrics\n",
    "print('Alpha:', round(alpha*100,2), '%')\n",
    "print('Beta:', round(beta*100,2), '%')\n",
    "print('Gmeans:', round(gmeans,2))"
   ]
  },
  {
   "cell_type": "code",
   "execution_count": 61,
   "id": "b00a5cc2",
   "metadata": {},
   "outputs": [],
   "source": [
    "#optimize predictions wrt gmeans\n",
    "#calculate thr roc curves\n",
    "fpr, tpr, thresholdsgmean = roc_curve(y_test, y_pred_prob)"
   ]
  },
  {
   "cell_type": "code",
   "execution_count": 62,
   "id": "907698da",
   "metadata": {},
   "outputs": [
    {
     "name": "stdout",
     "output_type": "stream",
     "text": [
      "Best threshold=0.003032, gmean=0.834\n"
     ]
    }
   ],
   "source": [
    "#calculate the gmeans associated to each threshold\n",
    "gmeans=np.sqrt(tpr*(1-fpr))\n",
    "#locate the index of the largest gmean\n",
    "ixgmean=argmax(gmeans)\n",
    "print('Best threshold=%f, gmean=%.3f' %(thresholdsgmean[ixgmean], gmeans[ixgmean]))"
   ]
  },
  {
   "cell_type": "code",
   "execution_count": 63,
   "id": "5350235f",
   "metadata": {},
   "outputs": [
    {
     "data": {
      "image/png": "[encoded data removed]",
      "text/plain": [
       "<Figure size 640x480 with 1 Axes>"
      ]
     },
     "metadata": {},
     "output_type": "display_data"
    }
   ],
   "source": [
    "# plot the roc curve for the model\n",
    "pyplot.plot([0,1], [0,1], linestyle='--', label='No Skill')\n",
    "pyplot.plot(fpr, tpr, marker='.', label='XGBoost',zorder=1)\n",
    "pyplot.scatter(fpr[ixgmean], tpr[ixgmean], marker='o', color='black', label='Best wrt gmeans',zorder=2)\n",
    "# axis labels\n",
    "pyplot.xlabel('False Positive Rate')\n",
    "pyplot.ylabel('True Positive Rate')\n",
    "pyplot.legend()\n",
    "# show the plot\n",
    "pyplot.show()"
   ]
  },
  {
   "cell_type": "code",
   "execution_count": 64,
   "id": "e1d453dc",
   "metadata": {},
   "outputs": [
    {
     "data": {
      "text/plain": [
       "0.9105243515581265"
      ]
     },
     "execution_count": 64,
     "metadata": {},
     "output_type": "execute_result"
    }
   ],
   "source": [
    "#area under the curve\n",
    "aucmeans=auc(tpr, (1-fpr))\n",
    "aucmeans"
   ]
  },
  {
   "cell_type": "code",
   "execution_count": 65,
   "id": "d5fdbc69",
   "metadata": {},
   "outputs": [],
   "source": [
    "#predict classes using the optimal classification threshold wrt the gmeans\n",
    "optimalthreshold=thresholdsgmean[ixgmean]\n",
    "y_pred_gmean=y_pred_prob>=optimalthreshold\n",
    "y_pred_gmean=y_pred_gmean.astype('int')"
   ]
  },
  {
   "cell_type": "code",
   "execution_count": 66,
   "id": "b6a4b5ca",
   "metadata": {},
   "outputs": [],
   "source": [
    "#create the confusion matrix\n",
    "confusion_matrixo = metrics.confusion_matrix(y_test, y_pred_gmean)"
   ]
  },
  {
   "cell_type": "code",
   "execution_count": 67,
   "id": "60624d3f",
   "metadata": {},
   "outputs": [
    {
     "data": {
      "image/png": "[encoded data removed]",
      "text/plain": [
       "<Figure size 640x480 with 2 Axes>"
      ]
     },
     "metadata": {},
     "output_type": "display_data"
    }
   ],
   "source": [
    "#display the confusion matrix\n",
    "cm_displayo = metrics.ConfusionMatrixDisplay(confusion_matrix = confusion_matrixo)\n",
    "cm_displayo.plot()\n",
    "plt.show()"
   ]
  },
  {
   "cell_type": "code",
   "execution_count": 68,
   "id": "0f5a54d3",
   "metadata": {},
   "outputs": [],
   "source": [
    "#assign values to the four elements of the confusion matrix\n",
    "tno,fpo,fno,tpo=metrics.confusion_matrix(y_test, y_pred_gmean).ravel()"
   ]
  },
  {
   "cell_type": "code",
   "execution_count": 69,
   "id": "fbae76a9",
   "metadata": {},
   "outputs": [],
   "source": [
    "#compute the alpha, beta, and gmeans based on the optimal classificationthreshold \n",
    "alphao=fpo/(fpo+tno)\n",
    "betao=fno/(fno+tpo)\n",
    "gmeanso=np.sqrt((1-alphao)*(1-betao))"
   ]
  },
  {
   "cell_type": "code",
   "execution_count": 70,
   "id": "69954dff",
   "metadata": {},
   "outputs": [
    {
     "name": "stdout",
     "output_type": "stream",
     "text": [
      "Alpha: 23.82 %\n",
      "Beta: 8.7 %\n",
      "Gmeans: 0.83\n"
     ]
    }
   ],
   "source": [
    "#print metrics\n",
    "print('Alpha:', round(alphao*100,2), '%')\n",
    "print('Beta:', round(betao*100,2), '%')\n",
    "print('Gmeans:', round(gmeanso,2))"
   ]
  },
  {
   "cell_type": "code",
   "execution_count": 71,
   "id": "3bdb4c2a",
   "metadata": {},
   "outputs": [],
   "source": [
    "#perform feature importance analysis\n",
    "importances = clf.feature_importances_\n",
    "#\n",
    "# Sort the feature importance in descending order\n",
    "#\n",
    "sorted_indices = np.argsort(importances)[::-1]\n",
    " \n",
    "feat_labels = X_test.columns[1:]"
   ]
  },
  {
   "cell_type": "code",
   "execution_count": 72,
   "id": "ce7ae58d",
   "metadata": {},
   "outputs": [
    {
     "data": {
      "image/png": "[encoded data removed]",
      "text/plain": [
       "<Figure size 640x480 with 1 Axes>"
      ]
     },
     "metadata": {},
     "output_type": "display_data"
    }
   ],
   "source": [
    "plt.title('Feature Importance')\n",
    "plt.bar(range(X_train.shape[1]), importances[sorted_indices], align='center')\n",
    "plt.xticks(range(X_train.shape[1]), X_train.columns[sorted_indices], rotation=90)\n",
    "plt.tight_layout()\n",
    "plt.show()"
   ]
  }
 ],
 "metadata": {
  "kernelspec": {
   "display_name": "Python 3 (ipykernel)",
   "language": "python",
   "name": "python3"
  },
  "language_info": {
   "codemirror_mode": {
    "name": "ipython",
    "version": 3
   },
   "file_extension": ".py",
   "mimetype": "text/x-python",
   "name": "python",
   "nbconvert_exporter": "python",
   "pygments_lexer": "ipython3",
   "version": "3.10.9"
  }
 },
 "nbformat": 4,
 "nbformat_minor": 5
}
